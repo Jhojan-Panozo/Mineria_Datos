{
 "cells": [
  {
   "cell_type": "code",
   "execution_count": 44,
   "metadata": {},
   "outputs": [
    {
     "name": "stdout",
     "output_type": "stream",
     "text": [
      "Precisión positiva = 0.0% via 1 ejemplos\n",
      "Precisión negativa = 100.0% via 1 ejemplos\n",
      "Sentiment(polarity=-0.07652236652236652, subjectivity=0.45423160173160165) \n",
      "\n"
     ]
    }
   ],
   "source": [
    "from textblob import TextBlob\n",
    "\n",
    "pos_count = 0\n",
    "pos_correct = 0\n",
    "\n",
    "with open(\"Articulo.txt\",\"r\") as f:\n",
    "  for line in f.read().split('\\n'):\n",
    "    analysis = TextBlob(line)\n",
    "    #print(line)\n",
    "    try:\n",
    "      eng=analysis.translate(to='en')\n",
    "      if eng.sentiment.polarity > 0:\n",
    "        pos_correct += 1\n",
    "      pos_count +=1\n",
    "    except:\n",
    "    #Mostramos este mensaje en caso de que se presente algún problema\n",
    "      print (\"El elemento no está presente\")\n",
    "\n",
    "neg_count = 0\n",
    "neg_correct = 0\n",
    "\n",
    "with open(\"Articulo.txt\",\"r\") as f:\n",
    "  for line in f.read().split('\\n'):\n",
    "    analysis = TextBlob(line)\n",
    "    #print(line)\n",
    "    try:\n",
    "      eng=analysis.translate(to='en')\n",
    "      if eng.sentiment.polarity < 0:\n",
    "        neg_correct += 1\n",
    "      neg_count +=1\n",
    "    except:\n",
    "      print('el elemento no esta presente')\n",
    "\n",
    "print(\"Precisión positiva = {}% via {} ejemplos\".format(pos_correct/pos_count*100.0, pos_count))\n",
    "print(\"Precisión negativa = {}% via {} ejemplos\".format(neg_correct/neg_count*100.0, neg_count))\n",
    "print(eng.sentiment, \"\\n\")"
   ]
  },
  {
   "cell_type": "code",
   "execution_count": null,
   "metadata": {},
   "outputs": [],
   "source": []
  }
 ],
 "metadata": {
  "kernelspec": {
   "display_name": "Python 3",
   "language": "python",
   "name": "python3"
  },
  "language_info": {
   "codemirror_mode": {
    "name": "ipython",
    "version": 3
   },
   "file_extension": ".py",
   "mimetype": "text/x-python",
   "name": "python",
   "nbconvert_exporter": "python",
   "pygments_lexer": "ipython3",
   "version": "3.7.7"
  }
 },
 "nbformat": 4,
 "nbformat_minor": 4
}
