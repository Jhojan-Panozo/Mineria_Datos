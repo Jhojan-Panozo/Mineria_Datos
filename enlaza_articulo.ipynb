{
 "cells": [
  {
   "cell_type": "code",
   "execution_count": 3,
   "metadata": {},
   "outputs": [
    {
     "name": "stdout",
     "output_type": "stream",
     "text": [
      "{\n",
      "    \"name\": \"Jhojan Panozo J-p\",\n",
      "    \"posts\": {\n",
      "        \"data\": [\n",
      "            {\n",
      "                \"message\": \"El mundo mira hoy, con preocupaci\\u00f3n y temor, la evoluci\\u00f3n de la situaci\\u00f3n en China, donde a finales del a\\u00f1o 2019 se registr\\u00f3 un aumento de pacientes con infecci\\u00f3n respiratoria infectados por un nuevo coronavirus, localizado en la ciudad de Wuhan.\\n\\nLa aparici\\u00f3n de una nueva enfermedad infecciosa supone siempre una situaci\\u00f3n compleja, especialmente si lo hace como una epidemia de extensi\\u00f3n o gravedad significativas. Los casos aumentaron r\\u00e1pidamente en Wuhan y en la provincia de Hubei, extendi\\u00e9ndose en menor n\\u00famero y con cadenas de transmisi\\u00f3n limitadas por toda China. Hay casos importados y casos secundarios en m\\u00e1s de 24 pa\\u00edses. El 30 de enero de 2020 la OMS declar\\u00f3 esta epidemia como una Emergencia de Salud P\\u00fablica de Inter\\u00e9s Internacional.\\n\\nEl virus ha sido identificado y secuenciado gen\\u00e9ticamente1. Est\\u00e1 relacionado con otros coronavirus que circulan entre los murci\\u00e9lagos (incluyendo el SARS coronavirus), por lo que se considera que su reservorio natural m\\u00e1s probable son estos mam\\u00edferos voladores. El hu\\u00e9sped intermediario, probablemente otro mam\\u00edfero, no ha sido identificado a\\u00fan. El punto de contacto con los seres humanos pudo ser un mercado de animales vivos de Wuhan, hoy clausurado2,3.\\n\\nEs posible que durante varias semanas este virus pasara desapercibido, en una ciudad de 11 millones de habitantes y al inicio de la temporada estacional de gripe, hasta que se dio la alerta por el aumento de casos graves (neumon\\u00eda), y se logr\\u00f3 aislar e identificar el coronavirus en varios pacientes. El salto ocasional de un virus de un animal al hombre (spillover) es habitual entre los coronavirus. As\\u00ed sucedi\\u00f3 con el SARS en 2002-2003 y con el MERS desde 2012. Est\\u00e1 demostrado que el se transmite de forma eficiente de persona a persona, habi\\u00e9ndose identificado agrupaciones de casos intrafamiliares y de transmisi\\u00f3n a personal sanitario.\",\n",
      "                \"created_time\": \"2020-06-10T07:42:51+0000\",\n",
      "                \"id\": \"2536209376620383_2590858487822138\"\n",
      "            }\n",
      "        ],\n",
      "        \"paging\": {\n",
      "            \"previous\": \"https://graph.facebook.com/v6.0/2536209376620383/posts?limit=1&since=1591774971&access_token=EAAH6VpZAy318BABrssBZCa9lZBFtfDAcpTUPbWqM6VTWYifsXZB7Xsc6oEHMz7rdYDYorV4gnOZCTkI21serXQuelCW1yArZClfWpdOhZAZAHUO84SHqRatcPQtKnfZBpvTlK7NeW5V1UsStWYtKAfFaCuIpZCGUoM8qPsNby653QdcZCF8ZCI6WotZCTzmBgAGTdfUqqjZAdf0QpnbgZDZD&__paging_token=enc_AdBZAAaxCAsi3IJpvNE8X41jCqh2PCIzgQTxu9zyIKsIPrYvV2NVqL6AkFkZB8mgtiRWN3FvodmVluiAEeCblxPRIlkXtgLfu5mvl971a1yW4vYQZDZD&__previous=1\",\n",
      "            \"next\": \"https://graph.facebook.com/v6.0/2536209376620383/posts?limit=1&access_token=EAAH6VpZAy318BABrssBZCa9lZBFtfDAcpTUPbWqM6VTWYifsXZB7Xsc6oEHMz7rdYDYorV4gnOZCTkI21serXQuelCW1yArZClfWpdOhZAZAHUO84SHqRatcPQtKnfZBpvTlK7NeW5V1UsStWYtKAfFaCuIpZCGUoM8qPsNby653QdcZCF8ZCI6WotZCTzmBgAGTdfUqqjZAdf0QpnbgZDZD&until=1591774971&__paging_token=enc_AdBZAAaxCAsi3IJpvNE8X41jCqh2PCIzgQTxu9zyIKsIPrYvV2NVqL6AkFkZB8mgtiRWN3FvodmVluiAEeCblxPRIlkXtgLfu5mvl971a1yW4vYQZDZD\"\n",
      "        }\n",
      "    },\n",
      "    \"id\": \"2536209376620383\"\n",
      "}\n"
     ]
    }
   ],
   "source": [
    "import json\n",
    "import facebook\n",
    "\n",
    "from textblob import TextBlob\n",
    "def main():\n",
    "    token = \"EAAH6VpZAy318BABrssBZCa9lZBFtfDAcpTUPbWqM6VTWYifsXZB7Xsc6oEHMz7rdYDYorV4gnOZCTkI21serXQuelCW1yArZClfWpdOhZAZAHUO84SHqRatcPQtKnfZBpvTlK7NeW5V1UsStWYtKAfFaCuIpZCGUoM8qPsNby653QdcZCF8ZCI6WotZCTzmBgAGTdfUqqjZAdf0QpnbgZDZD\"\n",
    "    graph = facebook.GraphAPI(token)\n",
    "    fields = ['name, posts.limit(1)']\n",
    "    profile = graph.get_object('me', fields = fields)\n",
    "    print(json.dumps(profile, indent=4)) \n",
    "    archivo = open(\"Articulo.txt\",\"w\")\n",
    "    archivo.write(str(profile))\n",
    "    archivo.close()\n",
    "    \n",
    "if __name__ == \"__main__\":\n",
    "    main()"
   ]
  },
  {
   "cell_type": "code",
   "execution_count": null,
   "metadata": {},
   "outputs": [],
   "source": []
  }
 ],
 "metadata": {
  "kernelspec": {
   "display_name": "Python 3",
   "language": "python",
   "name": "python3"
  },
  "language_info": {
   "codemirror_mode": {
    "name": "ipython",
    "version": 3
   },
   "file_extension": ".py",
   "mimetype": "text/x-python",
   "name": "python",
   "nbconvert_exporter": "python",
   "pygments_lexer": "ipython3",
   "version": "3.7.7"
  }
 },
 "nbformat": 4,
 "nbformat_minor": 4
}
